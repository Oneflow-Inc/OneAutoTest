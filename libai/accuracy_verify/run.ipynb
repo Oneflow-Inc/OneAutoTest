{
 "cells": [
  {
   "cell_type": "code",
   "execution_count": null,
   "id": "f6366f7a",
   "metadata": {},
   "outputs": [],
   "source": [
    "!cp args_libai_bert_init.sh args_libai_bert_loss.sh args_libai_gpt2_init.sh args_libai_gpt2_loss.sh args_libai_t5_init.sh args_libai_t5_loss.sh ./libai/tools/\n",
    "!cp ../bert_nl24_nah16_hs1024.py ../gpt2_nl24_nah16_hs1024.py ../t5_nl12_nah12_hs768.py ./libai/configs/\n",
    "!cp init.sh loss.sh draw_loss.py compose.py ./libai/\n",
    "!cd libai && mkdir loss_txt && mkdir curve"
   ]
  },
  {
   "cell_type": "code",
   "execution_count": 3,
   "id": "5c16ddce",
   "metadata": {},
   "outputs": [
    {
     "name": "stdout",
     "output_type": "stream",
     "text": [
      "/home/xuyongning/OneAutoTest/libai/accuracy_verify/libai\r\n"
     ]
    }
   ],
   "source": [
    "!pwd"
   ]
  },
  {
   "cell_type": "code",
   "execution_count": null,
   "id": "2db502a2",
   "metadata": {},
   "outputs": [],
   "source": [
    "!sed -i '/for self.iter in range(start_iter, max_iter):/a\\                    if self.iter == 99:\\n \\\n",
    "                      cmd = \"nvidia-smi --query-gpu=timestamp,name,driver_version,utilization.gpu,utilization.memory,memory.total,memory.free,memory.used --format=csv\"\\n \\\n",
    "                      os.system(cmd)' ./libai/engine/trainer.py"
   ]
  },
  {
   "cell_type": "code",
   "execution_count": null,
   "id": "db0454db",
   "metadata": {},
   "outputs": [],
   "source": [
    "!sed -i '/import time/a\\import os' ./libai/engine/trainer.py"
   ]
  },
  {
   "cell_type": "code",
   "execution_count": null,
   "id": "f2db2786",
   "metadata": {},
   "outputs": [],
   "source": [
    "!sed -i '/99/1' ./libai/engine/trainer.py\n",
    "!sed -i '/persistent_workers=True/#persistent_workers=True' ./libai/data/build.py\n",
    "!sed -i '/shuffle=True/shuffle=False' ./libai/data/build.py\n",
    "\n",
    "!sed -i '/hooks.PeriodicCheckpointer/#hooks.PeriodicCheckpointer' ./libai/engine/default.py"
   ]
  },
  {
   "cell_type": "code",
   "execution_count": 6,
   "id": "b84e5423",
   "metadata": {},
   "outputs": [],
   "source": [
    "!sed -i '/total_losses_reduced = sum(metrics_dict.values())/a\\            if dist.is_main_process():\\n \\\n",
    "                txt = open(\"loss_txt/your_loss.txt\", \"a\")\\n \\\n",
    "                txt.write(str(total_losses_reduced.item())+\"\\n\")' ./libai/engine/trainer.py"
   ]
  },
  {
   "cell_type": "code",
   "execution_count": 2,
   "id": "e253f9aa",
   "metadata": {},
   "outputs": [],
   "source": [
    "import os\n",
    "os.chdir('/home/xuyongning/OneAutoTest/libai/accuracy_verify/libai')\n",
    "#os.chdir('./libai')\n",
    "#!bash init.sh"
   ]
  },
  {
   "cell_type": "code",
   "execution_count": null,
   "id": "3b69e7de",
   "metadata": {},
   "outputs": [],
   "source": [
    "!bash loss.sh \"3d5e919\""
   ]
  }
 ],
 "metadata": {
  "kernelspec": {
   "display_name": "Python 3 (ipykernel)",
   "language": "python",
   "name": "python3"
  },
  "language_info": {
   "codemirror_mode": {
    "name": "ipython",
    "version": 3
   },
   "file_extension": ".py",
   "mimetype": "text/x-python",
   "name": "python",
   "nbconvert_exporter": "python",
   "pygments_lexer": "ipython3",
   "version": "3.9.12"
  }
 },
 "nbformat": 4,
 "nbformat_minor": 5
}
