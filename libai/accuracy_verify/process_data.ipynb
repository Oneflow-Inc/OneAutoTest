{
 "cells": [
  {
   "cell_type": "markdown",
   "id": "4a0072e1",
   "metadata": {},
   "source": [
    "### 切换工作路径"
   ]
  },
  {
   "cell_type": "code",
   "execution_count": null,
   "id": "87cf7f97",
   "metadata": {},
   "outputs": [],
   "source": [
    "!pwd"
   ]
  },
  {
   "cell_type": "code",
   "execution_count": null,
   "id": "b0edd3db",
   "metadata": {},
   "outputs": [],
   "source": [
    "import os\n",
    "os.chdir('./libai')"
   ]
  },
  {
   "cell_type": "markdown",
   "id": "13b9b1f9",
   "metadata": {},
   "source": [
    "### 读取loss数据"
   ]
  },
  {
   "cell_type": "code",
   "execution_count": null,
   "id": "ffeeae22",
   "metadata": {},
   "outputs": [],
   "source": [
    "import os\n",
    "txt_list = sorted(os.listdir(\"./loss_txt\"))\n",
    "#print(txt_list)"
   ]
  },
  {
   "cell_type": "markdown",
   "id": "f4345e37",
   "metadata": {},
   "source": [
    "### 绘制曲线"
   ]
  },
  {
   "cell_type": "code",
   "execution_count": null,
   "id": "622d3721",
   "metadata": {},
   "outputs": [],
   "source": [
    "#!pip install matplotlib\n",
    "\n",
    "for i in range(0, len(txt_list), 2):\n",
    "    file_name1 = txt_list[i].split('.')[-2]\n",
    "    commit1 = file_name1.split('_')[-1]\n",
    "    \n",
    "    file_name2 = txt_list[i+1].split('.')[-2]\n",
    "    commit2 = file_name2.split('_')[-1]\n",
    "    \n",
    "    # make commit2=='master'\n",
    "    if commit1 == \"master\":\n",
    "        file_tmp = file_name1\n",
    "        commit_tmp = commit1\n",
    "        file_name1 = file_name2\n",
    "        commit1 = commit2\n",
    "        file_name2 = file_tmp\n",
    "        commit2 = commit_tmp\n",
    "    \n",
    "    #!echo $file_name1 $file_name2 $commit1 $commit2\n",
    "    \n",
    "    !sed -i \"s#loss1.txt#loss_txt/{file_name1}.txt#g\" draw_loss.py\n",
    "    !sed -i \"s#loss1#{file_name1}#g\" draw_loss.py\n",
    "    \n",
    "    !sed -i \"s#loss2.txt#loss_txt/{file_name2}.txt#g\" draw_loss.py\n",
    "    !sed -i \"s#loss2#{file_name2}#g\" draw_loss.py\n",
    "    \n",
    "    !sed -i \"s#loss_curve.png#curve/loss_curve_{file_name1}.png#g\" draw_loss.py\n",
    "    !python3 draw_loss.py\n",
    "    !sed -i \"s#curve/loss_curve_{file_name1}.png#loss_curve.png#g\" draw_loss.py\n",
    "    \n",
    "    !sed -i \"s#loss_txt/{file_name1}.txt#loss1.txt#g\" draw_loss.py\n",
    "    !sed -i \"s#{file_name1}#loss1#g\" draw_loss.py\n",
    "    \n",
    "    !sed -i \"s#loss_txt/{file_name2}.txt#loss2.txt#g\" draw_loss.py\n",
    "    !sed -i \"s#{file_name2}#loss2#g\" draw_loss.py"
   ]
  },
  {
   "cell_type": "markdown",
   "id": "dea01802",
   "metadata": {},
   "source": [
    "### 生成吞吐&显存的表格"
   ]
  },
  {
   "cell_type": "code",
   "execution_count": null,
   "id": "4797c624",
   "metadata": {},
   "outputs": [],
   "source": [
    "import os\n",
    "os.chdir('../')"
   ]
  },
  {
   "cell_type": "code",
   "execution_count": null,
   "id": "7aa0776a",
   "metadata": {},
   "outputs": [],
   "source": [
    "#!pip install pyyaml\n",
    "!python3 extract_libai_libai.py --compare-log ./libai/test_logs_loss/master/ --test-log ./libai/test_logs_loss/3d5e919/"
   ]
  },
  {
   "cell_type": "code",
   "execution_count": null,
   "id": "fefb8083",
   "metadata": {},
   "outputs": [],
   "source": [
    "from IPython.display import Markdown, display\n",
    "\n",
    "display(Markdown(\"./libai/test_logs_loss/master/dlperf_result.md\"))"
   ]
  },
  {
   "cell_type": "markdown",
   "id": "812afbe1",
   "metadata": {},
   "source": [
    "### 每个模型的多张曲线图合并成一张"
   ]
  },
  {
   "cell_type": "code",
   "execution_count": null,
   "id": "09750fb3",
   "metadata": {},
   "outputs": [],
   "source": [
    "import os\n",
    "os.chdir('./libai')\n",
    "!mkdir img_bert img_gpt img_t5\n",
    "!cd curve && cp loss_curve_LibAI_bert* ../img_bert/ && cp loss_curve_LibAI_gpt2* ../img_gpt/ && cp loss_curve_LibAI_t5* ../img_t5/"
   ]
  },
  {
   "cell_type": "code",
   "execution_count": null,
   "id": "9bec18fb",
   "metadata": {},
   "outputs": [],
   "source": [
    "for title in ['bert', 'gpt', 't5']:\n",
    "    #!echo $title\n",
    "    !sed -i \"s#model#{title}#g\" compose.py\n",
    "    if title == 'gpt':\n",
    "        !sed -i \"s#IMAGE_COLUMN = 3#IMAGE_COLUMN = 2#g\" compose.py\n",
    "    !python3 compose.py\n",
    "    !sed -i \"s#{title}#model#g\" compose.py\n",
    "    !sed -i \"s#IMAGE_COLUMN = 2#IMAGE_COLUMN = 3#g\" compose.py"
   ]
  },
  {
   "cell_type": "markdown",
   "id": "6d74ec13",
   "metadata": {},
   "source": [
    "### 展示loss对齐曲线图"
   ]
  },
  {
   "cell_type": "code",
   "execution_count": null,
   "id": "da1c65eb",
   "metadata": {},
   "outputs": [],
   "source": [
    "from PIL import Image\n",
    "from IPython.display import Image as IMG\n",
    "\n",
    "display(Image.open('./curve/compose_bert.png'))"
   ]
  },
  {
   "cell_type": "code",
   "execution_count": null,
   "id": "23848093",
   "metadata": {},
   "outputs": [],
   "source": [
    "display(Image.open('./curve/compose_gpt.png'))"
   ]
  },
  {
   "cell_type": "code",
   "execution_count": null,
   "id": "a52fbed6",
   "metadata": {},
   "outputs": [],
   "source": [
    "display(Image.open('./curve/compose_t5.png'))"
   ]
  },
  {
   "cell_type": "code",
   "execution_count": null,
   "id": "e1509c59",
   "metadata": {},
   "outputs": [],
   "source": [
    "!~/ossutil64 -c ~/ossutilconfig cp -r -f ./curve/ oss://oneflow-test/loss_matching/GradAcc/oneflow-28/jupyter_test/curve/\n",
    "!~/ossutil64 -c ~/ossutilconfig cp -r -f ./loss_txt/ oss://oneflow-test/loss_matching/GradAcc/oneflow-28/jupyter_test/loss_txt/\n",
    "!~/ossutil64 -c ~/ossutilconfig cp -r -f ./test_logs_loss/ oss://oneflow-test/loss_matching/GradAcc/oneflow-28/jupyter_test/test_logs_loss/"
   ]
  },
  {
   "cell_type": "code",
   "execution_count": null,
   "id": "d99f2c9f",
   "metadata": {},
   "outputs": [],
   "source": [
    "!rm -rf ./img_bert/\n",
    "!rm -rf ./img_gpt/\n",
    "!rm -rf ./img_t5/"
   ]
  }
 ],
 "metadata": {
  "kernelspec": {
   "display_name": "Python 3 (ipykernel)",
   "language": "python",
   "name": "python3"
  },
  "language_info": {
   "codemirror_mode": {
    "name": "ipython",
    "version": 3
   },
   "file_extension": ".py",
   "mimetype": "text/x-python",
   "name": "python",
   "nbconvert_exporter": "python",
   "pygments_lexer": "ipython3",
   "version": "3.9.12"
  }
 },
 "nbformat": 4,
 "nbformat_minor": 5
}
